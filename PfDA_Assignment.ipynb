{
 "cells": [
  {
   "cell_type": "markdown",
   "id": "ab91c717",
   "metadata": {},
   "source": [
    "# Programming for Data Analysis Assignment"
   ]
  },
  {
   "cell_type": "markdown",
   "id": "93da7d87",
   "metadata": {},
   "source": [
    "For this project you must create a data set by simulating a real-world phenomenon of your choosing. You may pick any phenomenon you wish – you might pick one that is of interest to you in your personal or professional life. Then, rather than collect data\n",
    "related to the phenomenon, you should model and synthesise such data using Python. We suggest you use the numpy.random package for this purpose.\n",
    "Specifically, in this project you should:\n",
    "• Choose a real-world phenomenon that can be measured and for which you could collect at least one-hundred data points across at least four different variables.\n",
    "• Investigate the types of variables involved, their likely distributions, and their relationships with each other.\n",
    "• Synthesise/simulate a data set as closely matching their properties as possible.\n",
    "• Detail your research and implement the simulation in a Jupyter notebook – the data set itself can simply be displayed in an output cell within the notebook.\n",
    "Note that this project is about simulation – you must synthesise a data set. Some students may already have some real-world data sets in their own files. It is okay to base your synthesised data set on these should you wish (please reference it if you do), but the main task in this project is to create a synthesised data set. \n",
    "\n",
    "## Initial Research\n",
    " > 02/11/2023: After group call to discuss project, I looked at [Kaggle](https://www.kaggle.com/datasets?search=Timeseries), [Tableau](https://www.tableau.com/learn/articles/free-public-data-sets), [Open Data](data.gov.ie) and [Gretel AI](Gretel.ai) \n",
    " >\n",
    " > 03/11/2023: Revisited [OpenData] as open source Irish data from the Central Statisitcs Office webpage had a wide variety of datasets. Two tables in particular found here - \n",
    " >\n",
    " >Table 1: https://data.cso.ie/table/AKM01 - **AKM01 Intake of Cows Milk by Creameries and Pasteurisers**\n",
    " >\n",
    " >Table 2: https://data.cso.ie/table/MTM01 - **MTM01 Rainfall**\n",
    " >\n",
    " >I was intrigued to look at any correlation between milk fat content (%) or protein content (%) and rainfall as Irish dairy is one of our major exports, with \"€6.8bn worth of Irish dairy exported worldwide in 2022\" (Freiburg, 2022). I was interested to see if the correlation is visible from historical data, could I model future fat and protein content based on climate change predictions. \n",
    " _________"
   ]
  },
  {
   "cell_type": "markdown",
   "id": "c772f291",
   "metadata": {},
   "source": [
    "## Referencing\n",
    "> **Referencing for this project is in Harvard Referencing Style based on the guidance found in ATU's [Academic Integrity Notes](https://atlantictu.libguides.com/academicintegrity/referencing)\n",
    ">\n",
    ">Freiberg, R. (2022). Irish dairy worth €6.8bn shipped to 133 markets in 2022. AgriLand. Retrieved from: https://www.agriland.ie/farming-news/irish-dairy-worth-e6-8bn-shipped-to-133-markets-in-2022/\n",
    ">\n",
    ">IBEC. (n.d.). Economics and Social - Dairy Industry Ireland. [online] Available at: https://www.ibec.ie/dairyindustryireland/our-dairy-story/economics-and-social [Accessed 3 Nov. 2023].\n",
    ">\n",
    ">safefood.net. (2017). Climate Change on the Dairy Production Report. [PDF] Available at: https://www.safefood.net/getmedia/c22bbc41-71de-4801-81b5-5b95a3520cbb/M10039-SAFEFOOD_Climate-Change-on-the-Dairy-Production-Report-24-02-2017.aspx?ext=.pdf [Accessed 3 Nov. 2023].\n",
    ">\n",
    ">Irish Examiner. (n.d.). ‘The Irish grass-fed dairy sector is the envy of the world’ written by Aisling Kiernan. [online] Available at: https://www.irishexaminer.com/farming/arid-40715306.html [Accessed 3 Nov. 2023].\n",
    ">\n",
    ">National Dairy Council. (n.d.). Irish Dairy – Part of Ireland’s Sustainable Future. [Blog] Available at: https://ndc.ie/blog/irish-dairy-part-of-irelands-sustainable-future/ [Accessed 3 Nov. 2023]. Written by Zoë Kavanagh, CEO, National Dairy Council.\n",
    ">"
   ]
  },
  {
   "cell_type": "code",
   "execution_count": null,
   "id": "ce0db158",
   "metadata": {},
   "outputs": [],
   "source": []
  },
  {
   "cell_type": "code",
   "execution_count": null,
   "id": "770001a3",
   "metadata": {},
   "outputs": [],
   "source": []
  }
 ],
 "metadata": {
  "kernelspec": {
   "display_name": "Python 3 (ipykernel)",
   "language": "python",
   "name": "python3"
  },
  "language_info": {
   "codemirror_mode": {
    "name": "ipython",
    "version": 3
   },
   "file_extension": ".py",
   "mimetype": "text/x-python",
   "name": "python",
   "nbconvert_exporter": "python",
   "pygments_lexer": "ipython3",
   "version": "3.9.13"
  }
 },
 "nbformat": 4,
 "nbformat_minor": 5
}
